{
 "cells": [
  {
   "cell_type": "markdown",
   "metadata": {},
   "source": [
    "# Исследование продаж автомобилей в Казахстане"
   ]
  },
  {
   "cell_type": "markdown",
   "metadata": {},
   "source": [
    "## Описание данных"
   ]
  },
  {
   "cell_type": "markdown",
   "metadata": {},
   "source": [
    "`Год` – год продажи (2019)\n",
    "\n",
    "`Месяц` – месяц продажи (январь - сентябрь)\n",
    "\n",
    "`Компания` – название автоцентра\n",
    "\n",
    "`Бренд` – название продаваемой марки автомобиля\n",
    "\n",
    "`Модель` – название модели автомобиля\n",
    "\n",
    "`Год выпуска` – год производства автомобиля\n",
    "\n",
    "`Страна-производитель` – страна, где произведен автомобиль\n",
    "\n",
    "`Вид топлива` – бензин, дизель, электричество, гибрид\n",
    "\n",
    "`Объём двиг л` – объем двигателя автомобиля в литрах\n",
    "\n",
    "`Коробка передач` – тип коробки переключения передач (оставляем два варианта: автоматическая, механическая, то есть все что не механика ставим автомат, на DSG, S-Tronic и прочее делить не надо, равно как и количество передач)\n",
    "\n",
    "`Тип привода` – в итоге оставляем RWD – задний привод, FWD – передний привод, 4WD – полный привод, 2WD – все остальное (подключаемый полный привод и где нет четкого указания передний или задний это привод)\n",
    "\n",
    "`Регион` – регион продажи\n",
    "\n",
    "`Количество` – количество автомобилей в заказе\n",
    "\n",
    "`Цена USD` – цена автомобиля\n",
    "\n",
    "`Продажа USD` – цена заказа (цена авто умноженная на количество и за вычетом скидок если есть)\n",
    "\n",
    "`Область` – область продажи\n",
    "\n",
    "`Сегментация 2013` – сегмент автомобиля актуальный\n",
    "\n",
    "`Класс 2013` – класс автомобиля актуальный"
   ]
  },
  {
   "cell_type": "markdown",
   "metadata": {},
   "source": [
    "## Предобработка данных"
   ]
  },
  {
   "cell_type": "code",
   "execution_count": 1,
   "metadata": {},
   "outputs": [],
   "source": [
    "import pandas as pd\n",
    "import numpy as np\n",
    "from matplotlib import pyplot as plt\n",
    "import seaborn as sns\n",
    "import re"
   ]
  },
  {
   "cell_type": "markdown",
   "metadata": {},
   "source": [
    "### Загрузка файла"
   ]
  },
  {
   "cell_type": "code",
   "execution_count": 2,
   "metadata": {},
   "outputs": [],
   "source": [
    "data = pd.read_csv('kz_2019_final_all_dirt.csv', decimal=',', index_col=0, low_memory=False)"
   ]
  },
  {
   "cell_type": "code",
   "execution_count": 3,
   "metadata": {
    "scrolled": true
   },
   "outputs": [
    {
     "name": "stdout",
     "output_type": "stream",
     "text": [
      "Число строк: 32854\n"
     ]
    },
    {
     "data": {
      "text/html": [
       "<div>\n",
       "<style scoped>\n",
       "    .dataframe tbody tr th:only-of-type {\n",
       "        vertical-align: middle;\n",
       "    }\n",
       "\n",
       "    .dataframe tbody tr th {\n",
       "        vertical-align: top;\n",
       "    }\n",
       "\n",
       "    .dataframe thead th {\n",
       "        text-align: right;\n",
       "    }\n",
       "</style>\n",
       "<table border=\"1\" class=\"dataframe\">\n",
       "  <thead>\n",
       "    <tr style=\"text-align: right;\">\n",
       "      <th></th>\n",
       "      <th>Год</th>\n",
       "      <th>Месяц</th>\n",
       "      <th>Компания</th>\n",
       "      <th>Бренд</th>\n",
       "      <th>Модель</th>\n",
       "      <th>Модификация</th>\n",
       "      <th>Год выпуска</th>\n",
       "      <th>Страна-производитель</th>\n",
       "      <th>Вид топлива</th>\n",
       "      <th>Объём двиг, л,</th>\n",
       "      <th>...</th>\n",
       "      <th>Тип клиента</th>\n",
       "      <th>Форма расчета</th>\n",
       "      <th>Количество</th>\n",
       "      <th>Цена, USD</th>\n",
       "      <th>Продажа, USD</th>\n",
       "      <th>Область</th>\n",
       "      <th>Сегментация 2013</th>\n",
       "      <th>Класс 2013</th>\n",
       "      <th>Сегментация Eng</th>\n",
       "      <th>Локализация производства</th>\n",
       "    </tr>\n",
       "  </thead>\n",
       "  <tbody>\n",
       "    <tr>\n",
       "      <th>0</th>\n",
       "      <td>2019</td>\n",
       "      <td>Март</td>\n",
       "      <td>Mercur Auto</td>\n",
       "      <td>Audi</td>\n",
       "      <td>A3</td>\n",
       "      <td>Audi A3 TFSI</td>\n",
       "      <td>2017</td>\n",
       "      <td>Германия</td>\n",
       "      <td>Бензин</td>\n",
       "      <td>1.4</td>\n",
       "      <td>...</td>\n",
       "      <td>Физ. Лицо</td>\n",
       "      <td>безналичный</td>\n",
       "      <td>1.0</td>\n",
       "      <td>31250.0</td>\n",
       "      <td>31250.0</td>\n",
       "      <td>г.Алматы</td>\n",
       "      <td>Легковые автомобили</td>\n",
       "      <td>C класс</td>\n",
       "      <td>C</td>\n",
       "      <td>Импорт</td>\n",
       "    </tr>\n",
       "    <tr>\n",
       "      <th>1</th>\n",
       "      <td>2019</td>\n",
       "      <td>Май</td>\n",
       "      <td>Mercur Auto</td>\n",
       "      <td>Audi</td>\n",
       "      <td>A3</td>\n",
       "      <td>TFSI</td>\n",
       "      <td>2018</td>\n",
       "      <td>Германия</td>\n",
       "      <td>Бензин</td>\n",
       "      <td>1.4</td>\n",
       "      <td>...</td>\n",
       "      <td>Физ. Лицо</td>\n",
       "      <td>наличный</td>\n",
       "      <td>1.0</td>\n",
       "      <td>30581.0</td>\n",
       "      <td>30581.0</td>\n",
       "      <td>г.Алматы</td>\n",
       "      <td>Легковые автомобили</td>\n",
       "      <td>C класс</td>\n",
       "      <td>C</td>\n",
       "      <td>Импорт</td>\n",
       "    </tr>\n",
       "    <tr>\n",
       "      <th>2</th>\n",
       "      <td>2019</td>\n",
       "      <td>Июнь</td>\n",
       "      <td>Mercur Auto</td>\n",
       "      <td>Audi</td>\n",
       "      <td>A3</td>\n",
       "      <td>TFSI</td>\n",
       "      <td>2018</td>\n",
       "      <td>Германия</td>\n",
       "      <td>Бензин</td>\n",
       "      <td>1.4</td>\n",
       "      <td>...</td>\n",
       "      <td>Физ. Лицо</td>\n",
       "      <td>наличный</td>\n",
       "      <td>1.0</td>\n",
       "      <td>35087.719</td>\n",
       "      <td>35087.719</td>\n",
       "      <td>г.Алматы</td>\n",
       "      <td>Легковые автомобили</td>\n",
       "      <td>C класс</td>\n",
       "      <td>C</td>\n",
       "      <td>Импорт</td>\n",
       "    </tr>\n",
       "    <tr>\n",
       "      <th>3</th>\n",
       "      <td>2019</td>\n",
       "      <td>Июль</td>\n",
       "      <td>Mercur Auto</td>\n",
       "      <td>Audi</td>\n",
       "      <td>A3</td>\n",
       "      <td>TFSI</td>\n",
       "      <td>2017</td>\n",
       "      <td>Германия</td>\n",
       "      <td>Бензин</td>\n",
       "      <td>1.4</td>\n",
       "      <td>...</td>\n",
       "      <td>Физ. Лицо</td>\n",
       "      <td>наличный</td>\n",
       "      <td>1.0</td>\n",
       "      <td>26608.232900297386</td>\n",
       "      <td>26608.232900297386</td>\n",
       "      <td>г.Алматы</td>\n",
       "      <td>Легковые автомобили</td>\n",
       "      <td>C класс</td>\n",
       "      <td>C</td>\n",
       "      <td>Импорт</td>\n",
       "    </tr>\n",
       "    <tr>\n",
       "      <th>4</th>\n",
       "      <td>2019</td>\n",
       "      <td>Июль</td>\n",
       "      <td>Mercur Auto</td>\n",
       "      <td>Audi</td>\n",
       "      <td>A4</td>\n",
       "      <td>A4 Allroad TFSI</td>\n",
       "      <td>2017</td>\n",
       "      <td>Германия</td>\n",
       "      <td>Бензин</td>\n",
       "      <td>2</td>\n",
       "      <td>...</td>\n",
       "      <td>Юр. Лицо</td>\n",
       "      <td>безналичный</td>\n",
       "      <td>1.0</td>\n",
       "      <td>48343.98264845536</td>\n",
       "      <td>48343.98264845536</td>\n",
       "      <td>г.Алматы</td>\n",
       "      <td>Легковые автомобили</td>\n",
       "      <td>D класс</td>\n",
       "      <td>D</td>\n",
       "      <td>Импорт</td>\n",
       "    </tr>\n",
       "  </tbody>\n",
       "</table>\n",
       "<p>5 rows × 25 columns</p>\n",
       "</div>"
      ],
      "text/plain": [
       "    Год Месяц     Компания Бренд Модель      Модификация Год выпуска  \\\n",
       "0  2019  Март  Mercur Auto  Audi     A3     Audi A3 TFSI        2017   \n",
       "1  2019   Май  Mercur Auto  Audi     A3             TFSI        2018   \n",
       "2  2019  Июнь  Mercur Auto  Audi     A3             TFSI        2018   \n",
       "3  2019  Июль  Mercur Auto  Audi     A3             TFSI        2017   \n",
       "4  2019  Июль  Mercur Auto  Audi     A4  A4 Allroad TFSI        2017   \n",
       "\n",
       "  Страна-производитель Вид топлива Объём двиг, л,  ... Тип клиента  \\\n",
       "0             Германия      Бензин            1.4  ...   Физ. Лицо   \n",
       "1             Германия      Бензин            1.4  ...   Физ. Лицо   \n",
       "2             Германия      Бензин            1.4  ...   Физ. Лицо   \n",
       "3             Германия      Бензин            1.4  ...   Физ. Лицо   \n",
       "4             Германия      Бензин              2  ...    Юр. Лицо   \n",
       "\n",
       "  Форма расчета Количество           Цена, USD        Продажа, USD   Область  \\\n",
       "0   безналичный        1.0             31250.0             31250.0  г.Алматы   \n",
       "1      наличный        1.0             30581.0             30581.0  г.Алматы   \n",
       "2      наличный        1.0           35087.719           35087.719  г.Алматы   \n",
       "3      наличный        1.0  26608.232900297386  26608.232900297386  г.Алматы   \n",
       "4   безналичный        1.0   48343.98264845536   48343.98264845536  г.Алматы   \n",
       "\n",
       "       Сегментация 2013 Класс 2013 Сегментация Eng Локализация производства  \n",
       "0  Легковые автомобили    C класс                C                   Импорт  \n",
       "1  Легковые автомобили    C класс                C                   Импорт  \n",
       "2  Легковые автомобили    C класс                C                   Импорт  \n",
       "3  Легковые автомобили    C класс                C                   Импорт  \n",
       "4  Легковые автомобили    D класс                D                   Импорт  \n",
       "\n",
       "[5 rows x 25 columns]"
      ]
     },
     "execution_count": 3,
     "metadata": {},
     "output_type": "execute_result"
    }
   ],
   "source": [
    "print('Число строк:', len(data))\n",
    "data.head()"
   ]
  },
  {
   "cell_type": "markdown",
   "metadata": {},
   "source": [
    "### Переименование столбцов"
   ]
  },
  {
   "cell_type": "markdown",
   "metadata": {},
   "source": [
    "Во-первых, удалим колонки, которые не участвуют в анализе"
   ]
  },
  {
   "cell_type": "code",
   "execution_count": 4,
   "metadata": {},
   "outputs": [],
   "source": [
    "data = data.drop(['Модификация', 'Сегмент', 'Наименование дилерского центра', 'Тип клиента', 'Форма расчета', \n",
    "                  'Сегментация Eng', 'Локализация производства'], axis=1)"
   ]
  },
  {
   "cell_type": "markdown",
   "metadata": {},
   "source": [
    "Во-вторых, приведем названия столбцов в удобный формат"
   ]
  },
  {
   "cell_type": "code",
   "execution_count": 5,
   "metadata": {},
   "outputs": [
    {
     "name": "stdout",
     "output_type": "stream",
     "text": [
      "Index(['год', 'месяц', 'компания', 'бренд', 'модель', 'год_выпуска',\n",
      "       'страна_производитель', 'вид_топлива', 'объём_двиг_л',\n",
      "       'коробка_передач', 'тип_привода', 'регион', 'количество', 'цена_usd',\n",
      "       'продажа_usd', 'область', 'сегментация_2013', 'класс_2013'],\n",
      "      dtype='object')\n"
     ]
    }
   ],
   "source": [
    "data.columns = (data.columns.str.lower()\n",
    "               .str.replace(',', '')\n",
    "               .str.replace('-', '_')\n",
    "               .str.replace(' ', '_')\n",
    "               )\n",
    "print(data.columns)"
   ]
  },
  {
   "cell_type": "markdown",
   "metadata": {},
   "source": [
    "### Анализ пропусков"
   ]
  },
  {
   "cell_type": "code",
   "execution_count": 6,
   "metadata": {},
   "outputs": [
    {
     "data": {
      "text/html": [
       "<div>\n",
       "<style scoped>\n",
       "    .dataframe tbody tr th:only-of-type {\n",
       "        vertical-align: middle;\n",
       "    }\n",
       "\n",
       "    .dataframe tbody tr th {\n",
       "        vertical-align: top;\n",
       "    }\n",
       "\n",
       "    .dataframe thead th {\n",
       "        text-align: right;\n",
       "    }\n",
       "</style>\n",
       "<table border=\"1\" class=\"dataframe\">\n",
       "  <thead>\n",
       "    <tr style=\"text-align: right;\">\n",
       "      <th></th>\n",
       "      <th>column_name</th>\n",
       "      <th>percent_missing</th>\n",
       "    </tr>\n",
       "  </thead>\n",
       "  <tbody>\n",
       "    <tr>\n",
       "      <th>год</th>\n",
       "      <td>год</td>\n",
       "      <td>0.000000</td>\n",
       "    </tr>\n",
       "    <tr>\n",
       "      <th>месяц</th>\n",
       "      <td>месяц</td>\n",
       "      <td>0.000000</td>\n",
       "    </tr>\n",
       "    <tr>\n",
       "      <th>компания</th>\n",
       "      <td>компания</td>\n",
       "      <td>0.000000</td>\n",
       "    </tr>\n",
       "    <tr>\n",
       "      <th>бренд</th>\n",
       "      <td>бренд</td>\n",
       "      <td>0.000000</td>\n",
       "    </tr>\n",
       "    <tr>\n",
       "      <th>модель</th>\n",
       "      <td>модель</td>\n",
       "      <td>0.000000</td>\n",
       "    </tr>\n",
       "    <tr>\n",
       "      <th>год_выпуска</th>\n",
       "      <td>год_выпуска</td>\n",
       "      <td>0.468740</td>\n",
       "    </tr>\n",
       "    <tr>\n",
       "      <th>страна_производитель</th>\n",
       "      <td>страна_производитель</td>\n",
       "      <td>0.000000</td>\n",
       "    </tr>\n",
       "    <tr>\n",
       "      <th>вид_топлива</th>\n",
       "      <td>вид_топлива</td>\n",
       "      <td>2.775918</td>\n",
       "    </tr>\n",
       "    <tr>\n",
       "      <th>объём_двиг_л</th>\n",
       "      <td>объём_двиг_л</td>\n",
       "      <td>5.740549</td>\n",
       "    </tr>\n",
       "    <tr>\n",
       "      <th>коробка_передач</th>\n",
       "      <td>коробка_передач</td>\n",
       "      <td>3.628173</td>\n",
       "    </tr>\n",
       "    <tr>\n",
       "      <th>тип_привода</th>\n",
       "      <td>тип_привода</td>\n",
       "      <td>6.894138</td>\n",
       "    </tr>\n",
       "    <tr>\n",
       "      <th>регион</th>\n",
       "      <td>регион</td>\n",
       "      <td>0.000000</td>\n",
       "    </tr>\n",
       "    <tr>\n",
       "      <th>количество</th>\n",
       "      <td>количество</td>\n",
       "      <td>0.015219</td>\n",
       "    </tr>\n",
       "    <tr>\n",
       "      <th>цена_usd</th>\n",
       "      <td>цена_usd</td>\n",
       "      <td>0.000000</td>\n",
       "    </tr>\n",
       "    <tr>\n",
       "      <th>продажа_usd</th>\n",
       "      <td>продажа_usd</td>\n",
       "      <td>0.000000</td>\n",
       "    </tr>\n",
       "    <tr>\n",
       "      <th>область</th>\n",
       "      <td>область</td>\n",
       "      <td>0.000000</td>\n",
       "    </tr>\n",
       "    <tr>\n",
       "      <th>сегментация_2013</th>\n",
       "      <td>сегментация_2013</td>\n",
       "      <td>0.000000</td>\n",
       "    </tr>\n",
       "    <tr>\n",
       "      <th>класс_2013</th>\n",
       "      <td>класс_2013</td>\n",
       "      <td>0.000000</td>\n",
       "    </tr>\n",
       "  </tbody>\n",
       "</table>\n",
       "</div>"
      ],
      "text/plain": [
       "                               column_name  percent_missing\n",
       "год                                    год         0.000000\n",
       "месяц                                месяц         0.000000\n",
       "компания                          компания         0.000000\n",
       "бренд                                бренд         0.000000\n",
       "модель                              модель         0.000000\n",
       "год_выпуска                    год_выпуска         0.468740\n",
       "страна_производитель  страна_производитель         0.000000\n",
       "вид_топлива                    вид_топлива         2.775918\n",
       "объём_двиг_л                  объём_двиг_л         5.740549\n",
       "коробка_передач            коробка_передач         3.628173\n",
       "тип_привода                    тип_привода         6.894138\n",
       "регион                              регион         0.000000\n",
       "количество                      количество         0.015219\n",
       "цена_usd                          цена_usd         0.000000\n",
       "продажа_usd                    продажа_usd         0.000000\n",
       "область                            область         0.000000\n",
       "сегментация_2013          сегментация_2013         0.000000\n",
       "класс_2013                      класс_2013         0.000000"
      ]
     },
     "execution_count": 6,
     "metadata": {},
     "output_type": "execute_result"
    }
   ],
   "source": [
    "# drive_type = data[data['вид_топлива'].isna()]\n",
    "percent_missing = data.isnull().sum() * 100 / len(data)\n",
    "missing_value = pd.DataFrame({'column_name': data.columns,\n",
    "                              'percent_missing': percent_missing})\n",
    "missing_value"
   ]
  },
  {
   "cell_type": "code",
   "execution_count": 7,
   "metadata": {},
   "outputs": [
    {
     "data": {
      "image/png": "[encoded data removed]",
      "text/plain": [
       "<Figure size 640x480 with 2 Axes>"
      ]
     },
     "metadata": {},
     "output_type": "display_data"
    }
   ],
   "source": [
    "cols = data.columns\n",
    "# определяем цвета \n",
    "# желтый - пропущенные данные, синий - не пропущенные\n",
    "colors = ['#000099', '#ffff00'] \n",
    "sns.heatmap(data[cols].isna(), cmap=sns.color_palette(colors))\n",
    "plt.show()"
   ]
  },
  {
   "cell_type": "markdown",
   "metadata": {},
   "source": [
    "Есть много строк с пропусками сразу в нескольких столбцах. При этом общее число строк с пропусками не такое большое, поэтому, чтобы до старости не вставлять значения по модели автомобиля, пропуски удалим."
   ]
  },
  {
   "cell_type": "code",
   "execution_count": 8,
   "metadata": {},
   "outputs": [
    {
     "data": {
      "text/plain": [
       "30214"
      ]
     },
     "execution_count": 8,
     "metadata": {},
     "output_type": "execute_result"
    }
   ],
   "source": [
    "data = data.dropna()\n",
    "len(data)"
   ]
  },
  {
   "cell_type": "markdown",
   "metadata": {},
   "source": [
    "### Дубликаты"
   ]
  },
  {
   "cell_type": "code",
   "execution_count": 9,
   "metadata": {},
   "outputs": [
    {
     "data": {
      "text/plain": [
       "15600"
      ]
     },
     "execution_count": 9,
     "metadata": {},
     "output_type": "execute_result"
    }
   ],
   "source": [
    "data.duplicated().sum()"
   ]
  },
  {
   "cell_type": "markdown",
   "metadata": {},
   "source": [
    "Почти половина строк дубликаты, однако для рынка автомобилей это нормальное явление, комплектации могут быть схожи. По VIN номерам, которые в датасете отсутсвуют из соображений конфиденциальности, дубликаты не обнаружены."
   ]
  },
  {
   "cell_type": "markdown",
   "metadata": {},
   "source": [
    "### Кодировка стран\n",
    "Перекодируем страны в столбце Страна производства в alpha3(RUS, KAZ, USA и т.д.)"
   ]
  },
  {
   "cell_type": "code",
   "execution_count": 10,
   "metadata": {},
   "outputs": [
    {
     "data": {
      "text/plain": [
       "array(['Германия', 'США', 'Республика Казахстан', 'Российская Федерация',\n",
       "       'Белоруссия', 'Турция', 'Япония', 'Корея', 'Вьетнам', 'UK',\n",
       "       'Таиланд', 'Узбекистан', 'Австрия', 'Нидерланды', 'Венгрия',\n",
       "       'Швеция'], dtype=object)"
      ]
     },
     "execution_count": 10,
     "metadata": {},
     "output_type": "execute_result"
    }
   ],
   "source": [
    "# посмотрим, какие страны присутствуют в столбце\n",
    "data['страна_производитель'].unique()"
   ]
  },
  {
   "cell_type": "code",
   "execution_count": 11,
   "metadata": {},
   "outputs": [
    {
     "data": {
      "text/plain": [
       "list"
      ]
     },
     "execution_count": 11,
     "metadata": {},
     "output_type": "execute_result"
    }
   ],
   "source": [
    "# Используем метод pd.read_html для извлечения данных с кодировкой с сайта в ноутбук\n",
    "type(pd.read_html('https://www.artlebedev.ru/country-list/',\n",
    "encoding='utf8'))"
   ]
  },
  {
   "cell_type": "code",
   "execution_count": 12,
   "metadata": {},
   "outputs": [
    {
     "data": {
      "text/plain": [
       "pandas.core.frame.DataFrame"
      ]
     },
     "execution_count": 12,
     "metadata": {},
     "output_type": "execute_result"
    }
   ],
   "source": [
    "# смотрим первый элемент списка\n",
    "type(pd.read_html('https://www.artlebedev.ru/country-list/',\n",
    "encoding='utf8')[0])"
   ]
  },
  {
   "cell_type": "markdown",
   "metadata": {},
   "source": [
    "Делаем датасет с кодами стран путем загрузки данных с сайта Лебедева, одновременно\n",
    "переименуем столбцы на английский язык для удобства работы"
   ]
  },
  {
   "cell_type": "code",
   "execution_count": 13,
   "metadata": {},
   "outputs": [],
   "source": [
    "countries_codes = (pd.read_html('https://www.artlebedev.ru/country-list/', encoding='utf8')[0]\n",
    "                   [['Наименование', 'Полное наименование', 'Alpha3']]\n",
    "                  .rename(columns={'Наименование':'name', 'Полное наименование':'full_name'}))"
   ]
  },
  {
   "cell_type": "markdown",
   "metadata": {},
   "source": [
    "Создаем словарь для замены названий стран на коды Alpha3. Ключи - названия стран,\n",
    "значения - коды. Я циклом прошел по названиям и полным названиям стран, так как в\n",
    "датасете есть и полные названия стран также."
   ]
  },
  {
   "cell_type": "code",
   "execution_count": 14,
   "metadata": {},
   "outputs": [],
   "source": [
    "countries_codes_dict = {}\n",
    "\n",
    "for i in range(len(countries_codes)):\n",
    "    if countries_codes.loc[i]['name'] not in countries_codes_dict:\n",
    "        countries_codes_dict[countries_codes.loc[i]['name']] = countries_codes.loc[i]['Alpha3']\n",
    "        \n",
    "    if countries_codes.loc[i]['full_name'] not in countries_codes_dict:\n",
    "        countries_codes_dict[countries_codes.loc[i]['full_name']] = countries_codes.loc[i]['Alpha3']"
   ]
  },
  {
   "cell_type": "markdown",
   "metadata": {},
   "source": [
    "Производим замену по словарю. Можно использовать метод map, но у него есть один\n",
    "недочет - если в словаре нет значения, которое стоит в ячейке, то метод вернет nan, что в\n",
    "данном случае неприменимо. Поэтому используем метод словарей get и lambda-функцию.\n",
    "Данный способ вернет нам значение ячейки, если ее нет в ключах словаря"
   ]
  },
  {
   "cell_type": "code",
   "execution_count": 15,
   "metadata": {},
   "outputs": [
    {
     "data": {
      "text/plain": [
       "array(['DEU', 'США', 'KAZ', 'RUS', 'Белоруссия', 'TUR', 'JPN', 'Корея',\n",
       "       'VNM', 'UK', 'THA', 'UZB', 'AUT', 'NLD', 'HUN', 'SWE'],\n",
       "      dtype=object)"
      ]
     },
     "execution_count": 15,
     "metadata": {},
     "output_type": "execute_result"
    }
   ],
   "source": [
    "data['страна_производитель'] = data['страна_производитель'].apply(lambda cell: countries_codes_dict.get(cell, cell))\n",
    "data['страна_производитель'].unique()"
   ]
  },
  {
   "cell_type": "markdown",
   "metadata": {},
   "source": [
    "Три страны не изменились, переименуем вручную"
   ]
  },
  {
   "cell_type": "code",
   "execution_count": 16,
   "metadata": {},
   "outputs": [
    {
     "data": {
      "text/plain": [
       "array(['DEU', 'USA', 'KAZ', 'RUS', 'BLR', 'TUR', 'JPN', 'KOR', 'VNM',\n",
       "       'UK', 'THA', 'UZB', 'AUT', 'NLD', 'HUN', 'SWE'], dtype=object)"
      ]
     },
     "execution_count": 16,
     "metadata": {},
     "output_type": "execute_result"
    }
   ],
   "source": [
    "data['страна_производитель'] = (data['страна_производитель'].str.replace('США', 'USA')\n",
    "                                .str.replace('Корея', 'KOR')\n",
    "                                .str.replace('Белоруссия', 'BLR'))\n",
    "data['страна_производитель'].unique()"
   ]
  },
  {
   "cell_type": "markdown",
   "metadata": {},
   "source": [
    "Однако, по правилам хорошего тона после себя необходимо оставить словарь, по которому\n",
    "были произведены замены / кодировка, поэтому мы поменяем названия ключей стран,\n",
    "которые не прошли замену. Я для этого использовал метод словарей pop"
   ]
  },
  {
   "cell_type": "code",
   "execution_count": 17,
   "metadata": {},
   "outputs": [],
   "source": [
    "new_codes_dict = countries_codes_dict\n",
    "\n",
    "new_codes_dict['Белоруссия'] = new_codes_dict.pop('Беларусь')\n",
    "new_codes_dict['США'] = new_codes_dict.pop('Соединенные Штаты')\n",
    "new_codes_dict['Корея'] = new_codes_dict.pop('Корея, Республика')"
   ]
  },
  {
   "cell_type": "markdown",
   "metadata": {},
   "source": [
    "### Кодировка типа топлива"
   ]
  },
  {
   "cell_type": "code",
   "execution_count": 18,
   "metadata": {},
   "outputs": [
    {
     "data": {
      "text/plain": [
       "array(['Бензин', 'Дизель', 'гибрид', 'Электрический', 'дизель ',\n",
       "       'Газовый'], dtype=object)"
      ]
     },
     "execution_count": 18,
     "metadata": {},
     "output_type": "execute_result"
    }
   ],
   "source": [
    "data['вид_топлива'].unique()"
   ]
  },
  {
   "cell_type": "code",
   "execution_count": 19,
   "metadata": {},
   "outputs": [
    {
     "name": "stdout",
     "output_type": "stream",
     "text": [
      "['F' 'D' 'HYB' 'E' 'G']\n"
     ]
    }
   ],
   "source": [
    "data['вид_топлива'] = (data['вид_топлива'].str.replace('Бензин', 'F')\n",
    "                       .str.replace('Дизель', 'D')\n",
    "                       .str.replace('дизель ', 'D')\n",
    "                       .str.replace('Электрический', 'E')\n",
    "                       .str.replace('гибрид', 'HYB')\n",
    "                       .str.replace('Газовый', 'G')\n",
    "                      )\n",
    "print(data['вид_топлива'].unique())"
   ]
  },
  {
   "cell_type": "markdown",
   "metadata": {},
   "source": [
    "### Кодировка типа привода"
   ]
  },
  {
   "cell_type": "code",
   "execution_count": 20,
   "metadata": {},
   "outputs": [
    {
     "data": {
      "text/plain": [
       "array(['FWD', 'передний', 'quattro', 'Quattro', 'RWD', '4WD', 'Полный',\n",
       "       'Задний', 'AWD', 'Передний', '4х2.2', 'Полный ', 'задний', '2WD',\n",
       "       '2 WD', '4 WD', '4х4', '4x2', 'FR', '4х2', '4x4', '2х4', 'CVT',\n",
       "       '0', ' -', '-', 'P/TIME', 'FF', 'полный', '4Motion', 'передний '],\n",
       "      dtype=object)"
      ]
     },
     "execution_count": 20,
     "metadata": {},
     "output_type": "execute_result"
    }
   ],
   "source": [
    "data['тип_привода'].unique()"
   ]
  },
  {
   "cell_type": "code",
   "execution_count": 21,
   "metadata": {},
   "outputs": [
    {
     "name": "stdout",
     "output_type": "stream",
     "text": [
      "['FWD' '4WD' 'RWD' '2WD']\n"
     ]
    }
   ],
   "source": [
    "def drive_encoding(drive):\n",
    "    if drive in ['quattro', 'Quattro', '4WD', 'Полный', 'AWD', '4 WD', '4х4', '4x4', 'полный', '4Motion']:\n",
    "        return '4WD'\n",
    "    elif drive in ['FWD', 'передний', 'Передний', 'FF', 'передний ']:\n",
    "        return 'FWD'\n",
    "    elif drive in ['RWD', 'Задний', 'задний']:\n",
    "        return 'RWD'\n",
    "    else:\n",
    "        return '2WD'\n",
    "\n",
    "data['тип_привода'] = data['тип_привода'].apply(drive_encoding) \n",
    "print(data['тип_привода'].unique())"
   ]
  },
  {
   "cell_type": "markdown",
   "metadata": {},
   "source": [
    "### Столбец Дата"
   ]
  },
  {
   "cell_type": "code",
   "execution_count": 22,
   "metadata": {},
   "outputs": [
    {
     "name": "stdout",
     "output_type": "stream",
     "text": [
      "['Май' 'Июнь' 'Июль' 'Январь' 'Февраль' 'Март' 'Апрель' 'Август'\n",
      " 'Сентябрь']\n"
     ]
    }
   ],
   "source": [
    "# создадим отдельный столбей с датой\n",
    "print(data['месяц'].unique())"
   ]
  },
  {
   "cell_type": "code",
   "execution_count": 23,
   "metadata": {},
   "outputs": [],
   "source": [
    "month_dict = {'Январь': '01',\n",
    "             'Февраль': '02',\n",
    "             'Март': '03',\n",
    "             'Апрель': '04',\n",
    "             'Май': '05',\n",
    "             'Июнь': '06',\n",
    "             'Июль': '07',\n",
    "             'Август': '08',\n",
    "             'Сентябрь': '09'}\n",
    "data['месяц'] = data['месяц'].map(month_dict)"
   ]
  },
  {
   "cell_type": "code",
   "execution_count": 24,
   "metadata": {},
   "outputs": [],
   "source": [
    "data['год'] = data['год'].astype('str') + '-' + data['месяц']\n",
    "data = data.rename(columns = {'год': 'дата'})\n",
    "data = data.drop('месяц', axis=1)\n",
    "data['дата'] = pd.to_datetime(data['дата'], format='%Y-%m')"
   ]
  },
  {
   "cell_type": "markdown",
   "metadata": {},
   "source": [
    "### Название компании"
   ]
  },
  {
   "cell_type": "code",
   "execution_count": 25,
   "metadata": {},
   "outputs": [
    {
     "data": {
      "text/plain": [
       "Toyota Motor Kazakhstan          10425\n",
       "Astana Motors                     5744\n",
       "БИПЭК АВТО                        3358\n",
       "Вираж                             3358\n",
       "УзАвто-Казахстан                  1727\n",
       "Allur Auto                        1304\n",
       "Nissan Manufacturing RUS          1022\n",
       "Renault Россия                     633\n",
       "Mercur Auto                        597\n",
       "Лифан Моторс Рус                   566\n",
       "Subaru Kazakhstan                  520\n",
       "ММС Рус                            279\n",
       "Автоцентр-Бавария                  197\n",
       "Каспиан Моторс                     168\n",
       "Autokapital                         97\n",
       "MMC RUS                             33\n",
       "Хино Моторс Казахстан               31\n",
       "Hyundai Com Trans Kazakhstan        26\n",
       "Eurasia Motor Premium               24\n",
       "СВС                                 24\n",
       "Scandinavian Motors                 22\n",
       "ТК Рос-Авто                         15\n",
       "Caspian Motors                      15\n",
       "Daewoo Bus Kazakhstan               15\n",
       "Sivi Finance Consulting              4\n",
       "Scania Central Asia                  4\n",
       "Jaguar Land Rover                    2\n",
       "Hino Motors Kazakhstan               2\n",
       "SMC                                  1\n",
       "Алматы АТО                           1\n",
       "Name: компания, dtype: int64"
      ]
     },
     "execution_count": 25,
     "metadata": {},
     "output_type": "execute_result"
    }
   ],
   "source": [
    "data['компания'].value_counts()"
   ]
  },
  {
   "cell_type": "code",
   "execution_count": 26,
   "metadata": {},
   "outputs": [],
   "source": [
    "data['компания'] = (data['компания'].str.replace('MMC RUS', 'ММС Рус')\n",
    "                    .str.replace('Caspian Motors', 'Каспиан Моторс')\n",
    "                    .str.replace('Hino Motors Kazakhstan', 'Хино Моторс Казахстан'))"
   ]
  },
  {
   "cell_type": "markdown",
   "metadata": {},
   "source": [
    "### Объем двигателя"
   ]
  },
  {
   "cell_type": "code",
   "execution_count": 27,
   "metadata": {},
   "outputs": [
    {
     "data": {
      "text/plain": [
       "array(['1.4', '2', '3', '1.5', '4.4', '6.6', '0', '1.8', '1.596', '1596',\n",
       "       '2.4', '3000', '2400', '1.7', '6.2', '1800', '1400 turbo',\n",
       "       '1,4 Turbo', '2.5', '1.6', '3.5', '2.2', '2.7', '2.8', '4.2', '5',\n",
       "       '3.9', '7.5', '11', '3.933', '12.3', '1,6 T-GDI', '3.7', '5.6',\n",
       "       '10.3', '8.7', '1600', '1.998', '1.598', '1.248', '2.359', '2359',\n",
       "       '1999', '3.8', '3800', '1.591', '1.368', '3.342', '3.47', '3470',\n",
       "       '2000', '1.999', '1.69', '1690', '1.774', '1598', '1774', '4.6',\n",
       "       '3,5', '5.7', '10.5', '4', '12', '1.2', '3.6', '6.5', '5.5', '4.5',\n",
       "       '1.25', '1.3', '0.002', '0.0016', '1998', '13', '16', '1400',\n",
       "       '2.3', '1.33', '2,4G', '2.693', '2693', '2.235', '2235', '2.0',\n",
       "       '14860', '14.8', '6.7', '1,2T', '4.88', '4.0'], dtype=object)"
      ]
     },
     "execution_count": 27,
     "metadata": {},
     "output_type": "execute_result"
    }
   ],
   "source": [
    "data['объём_двиг_л'].unique()"
   ]
  },
  {
   "cell_type": "code",
   "execution_count": 28,
   "metadata": {},
   "outputs": [],
   "source": [
    "data['объём_двиг_л'] = data['объём_двиг_л'].str.replace(',', '.')\n",
    "\n",
    "def cleaner_engine(volume):\n",
    "    new_volume = re.sub(r'[^\\d.]', '', volume)\n",
    "    \n",
    "    return new_volume\n",
    "\n",
    "data['объём_двиг_л'] =  data['объём_двиг_л'].apply(cleaner_engine)"
   ]
  },
  {
   "cell_type": "code",
   "execution_count": 29,
   "metadata": {},
   "outputs": [
    {
     "name": "stdout",
     "output_type": "stream",
     "text": [
      "       объём_двиг_л\n",
      "count  30213.000000\n",
      "mean       2.265391\n",
      "std        0.937653\n",
      "min        1.200000\n",
      "25%        1.600000\n",
      "50%        2.000000\n",
      "75%        2.693000\n",
      "max       16.000000\n"
     ]
    }
   ],
   "source": [
    "data['объём_двиг_л'] = data['объём_двиг_л'].astype('float')\n",
    "\n",
    "def super_cleaner_engine(volume):\n",
    "    if volume > 1000:\n",
    "        return volume / 1000\n",
    "    elif volume < 0.1:\n",
    "        return volume * 1000\n",
    "    else:\n",
    "        return volume\n",
    "data['объём_двиг_л'] =  data['объём_двиг_л'].apply(super_cleaner_engine)\n",
    "\n",
    "print(data[(data['объём_двиг_л'] != 0)].describe())"
   ]
  },
  {
   "cell_type": "markdown",
   "metadata": {},
   "source": [
    "### Регион и область"
   ]
  },
  {
   "cell_type": "code",
   "execution_count": 30,
   "metadata": {},
   "outputs": [
    {
     "name": "stdout",
     "output_type": "stream",
     "text": [
      "['Алматы' 'Костанай' 'Атырау' 'Астана' 'Уральск' 'Усть-Каменогорск'\n",
      " 'Петропавловск' 'Павлодар' 'Кокшетау' 'Актау' 'Семей' 'Караганда'\n",
      " 'Актобе' 'Шымкент' 'Талдыкорган' 'Кызылорда' 'Экибастуз' 'Рудный' 'Тараз'\n",
      " 'Аксай' 'Щучинск' 'ЭКСПОРТ' 'Риддер']\n"
     ]
    }
   ],
   "source": [
    "print(data['регион'].unique())\n",
    "data['регион'] = data['регион'].str.title()"
   ]
  },
  {
   "cell_type": "code",
   "execution_count": 31,
   "metadata": {},
   "outputs": [
    {
     "name": "stdout",
     "output_type": "stream",
     "text": [
      "['г.Алматы' 'Костанайская область' 'Атырауская область' 'г.Астана'\n",
      " 'Западно-Казахстанская область' 'Восточно-Казахстанская область'\n",
      " 'Северо-Казахстанская область' 'Павлодарская область'\n",
      " 'Акмолинская область' 'Мангистауская область' 'Карагандинская область'\n",
      " 'Актюбинская область' 'Южно-Казахстанская область' 'Алматинская область'\n",
      " 'Кызылординская область' 'Жамбылская область' 'Экспорт область']\n"
     ]
    }
   ],
   "source": [
    "print(data['область'].unique())"
   ]
  },
  {
   "cell_type": "markdown",
   "metadata": {},
   "source": [
    "### Год выпуска"
   ]
  },
  {
   "cell_type": "code",
   "execution_count": 32,
   "metadata": {},
   "outputs": [
    {
     "data": {
      "text/plain": [
       "array(['2018', '2017', '2016', '2011', '2015', '2014', '2013', '2\\xa0018',\n",
       "       '2\\xa0017', '2\\xa0016'], dtype=object)"
      ]
     },
     "execution_count": 32,
     "metadata": {},
     "output_type": "execute_result"
    }
   ],
   "source": [
    "data['год_выпуска'].unique()"
   ]
  },
  {
   "cell_type": "code",
   "execution_count": 33,
   "metadata": {},
   "outputs": [],
   "source": [
    "data['год_выпуска'] = data['год_выпуска'].str.replace('\\xa0', '')"
   ]
  },
  {
   "cell_type": "markdown",
   "metadata": {},
   "source": [
    "### Тип трансмиссии"
   ]
  },
  {
   "cell_type": "code",
   "execution_count": 34,
   "metadata": {},
   "outputs": [
    {
     "data": {
      "text/plain": [
       "array(['S-Тronic', 'S-Тroic', 'S-troic', 'S-tronic', 'Steptronic',\n",
       "       'ТipТronic', 'Tiptronic', 'SТepТronic', 'Автомат', 'AT', '6 АТ',\n",
       "       '5 МТ', '6AT', '5MT', '6АТ', '5МТ', 'MT', 'МТ', 'MТ', '6АT', '6MT',\n",
       "       'Powershift S6', 'PowershiftS6', 'PowershifТS6', '6МТ', '6MТ',\n",
       "       'Мех.', 'МКПП', '6 AT', '6 MT', '8АТ', '5AT', '5АТ', '7DCT',\n",
       "       '7 DCT', '7DCТ', 'АТ', 'CVT', 'N', 'CVT(вариатор)', 'CVТ', '6 МТ',\n",
       "       '4АТ', '8 АТ', '8AT', '4 АТ', 'AMT', '4AT', '9AT',\n",
       "       'CVT (вариатор)', 'CVT(вариATор)', 'CVТ(вариатор)', '9АТ', '12AT',\n",
       "       '7AT', '7АТ', '6М/Т', '6M/T', '6M/Т', '0', 'PDK', '8АКПП',\n",
       "       '8-ступ АКПП', 'АКПП8', '8', 'АКПП', ' -', '-', '7 DSG', '7DSG',\n",
       "       '6 DSG', '6DSG', 'CVТ(вАриАтор)', '5MТ', 'АТ (автомат)',\n",
       "       '8АТ4МoТion', '6A', '5M', '6-ступАКПП', '6А', 'AT (автомат)',\n",
       "       '7DSG4МoТion', '6Aвтомат', '6Aатомат', '5М', '5-ступМТ', 'АT',\n",
       "       'A/T', '7АT', 'МТ (механика)', 'Механическая'], dtype=object)"
      ]
     },
     "execution_count": 34,
     "metadata": {},
     "output_type": "execute_result"
    }
   ],
   "source": [
    "data['коробка_передач'].unique()"
   ]
  },
  {
   "cell_type": "code",
   "execution_count": 35,
   "metadata": {},
   "outputs": [
    {
     "data": {
      "text/plain": [
       "array(['АКПП', 'МКПП'], dtype=object)"
      ]
     },
     "execution_count": 35,
     "metadata": {},
     "output_type": "execute_result"
    }
   ],
   "source": [
    "mechanical = ['5 МТ', '5MT', '5МТ', 'MT', 'МТ', 'MТ', '6MT', '6МТ', '6MТ',\n",
    "           'Мех.', 'МКПП', '6 MT', '6 МТ', 'N', '6М/Т', '6M/T', '6M/Т', '5MТ',\n",
    "           '5M', '5М', '5-ступМТ',  'МТ (механика)', 'Механическая', '0']\n",
    "\n",
    "\n",
    "def transmission_clean(value):\n",
    "    if value in mechanical:\n",
    "        return 'МКПП'\n",
    "    else:\n",
    "        return 'АКПП'\n",
    "    \n",
    "data['коробка_передач'] = data['коробка_передач'].apply(transmission_clean)\n",
    "data['коробка_передач'].unique()"
   ]
  },
  {
   "cell_type": "markdown",
   "metadata": {},
   "source": [
    "### Изменение типа данных"
   ]
  },
  {
   "cell_type": "code",
   "execution_count": 36,
   "metadata": {},
   "outputs": [],
   "source": [
    "float_list = ['цена_usd', 'продажа_usd']\n",
    "category_list = ['вид_топлива', 'коробка_передач', 'тип_привода', 'сегментация_2013', 'класс_2013']\n",
    "for column in data.columns:\n",
    "    \n",
    "    if column in float_list:\n",
    "        data[column] = data[column].astype('float')\n",
    "        \n",
    "    elif column in category_list:\n",
    "        data[column] = data[column].astype('category')\n",
    "\n",
    "    else: \n",
    "        data[column] = data[column]\n",
    "        \n",
    "        \n",
    "data['количество'] = pd.to_numeric(data['количество'], errors='coerce', downcast = 'integer')       "
   ]
  },
  {
   "cell_type": "markdown",
   "metadata": {},
   "source": [
    "## Исследовательский анализ"
   ]
  },
  {
   "cell_type": "code",
   "execution_count": 37,
   "metadata": {},
   "outputs": [
    {
     "data": {
      "text/html": [
       "<div>\n",
       "<style scoped>\n",
       "    .dataframe tbody tr th:only-of-type {\n",
       "        vertical-align: middle;\n",
       "    }\n",
       "\n",
       "    .dataframe tbody tr th {\n",
       "        vertical-align: top;\n",
       "    }\n",
       "\n",
       "    .dataframe thead th {\n",
       "        text-align: right;\n",
       "    }\n",
       "</style>\n",
       "<table border=\"1\" class=\"dataframe\">\n",
       "  <thead>\n",
       "    <tr style=\"text-align: right;\">\n",
       "      <th></th>\n",
       "      <th>дата</th>\n",
       "      <th>компания</th>\n",
       "      <th>бренд</th>\n",
       "      <th>модель</th>\n",
       "      <th>год_выпуска</th>\n",
       "      <th>страна_производитель</th>\n",
       "      <th>вид_топлива</th>\n",
       "      <th>объём_двиг_л</th>\n",
       "      <th>коробка_передач</th>\n",
       "      <th>тип_привода</th>\n",
       "      <th>регион</th>\n",
       "      <th>количество</th>\n",
       "      <th>цена_usd</th>\n",
       "      <th>продажа_usd</th>\n",
       "      <th>область</th>\n",
       "      <th>сегментация_2013</th>\n",
       "      <th>класс_2013</th>\n",
       "    </tr>\n",
       "  </thead>\n",
       "  <tbody>\n",
       "    <tr>\n",
       "      <th>1</th>\n",
       "      <td>2019-05-01</td>\n",
       "      <td>Mercur Auto</td>\n",
       "      <td>Audi</td>\n",
       "      <td>A3</td>\n",
       "      <td>2018</td>\n",
       "      <td>DEU</td>\n",
       "      <td>F</td>\n",
       "      <td>1.4</td>\n",
       "      <td>АКПП</td>\n",
       "      <td>FWD</td>\n",
       "      <td>Алматы</td>\n",
       "      <td>1</td>\n",
       "      <td>30581.000000</td>\n",
       "      <td>30581.000000</td>\n",
       "      <td>г.Алматы</td>\n",
       "      <td>Легковые автомобили</td>\n",
       "      <td>C класс</td>\n",
       "    </tr>\n",
       "    <tr>\n",
       "      <th>2</th>\n",
       "      <td>2019-06-01</td>\n",
       "      <td>Mercur Auto</td>\n",
       "      <td>Audi</td>\n",
       "      <td>A3</td>\n",
       "      <td>2018</td>\n",
       "      <td>DEU</td>\n",
       "      <td>F</td>\n",
       "      <td>1.4</td>\n",
       "      <td>АКПП</td>\n",
       "      <td>FWD</td>\n",
       "      <td>Алматы</td>\n",
       "      <td>1</td>\n",
       "      <td>35087.719000</td>\n",
       "      <td>35087.719000</td>\n",
       "      <td>г.Алматы</td>\n",
       "      <td>Легковые автомобили</td>\n",
       "      <td>C класс</td>\n",
       "    </tr>\n",
       "    <tr>\n",
       "      <th>3</th>\n",
       "      <td>2019-07-01</td>\n",
       "      <td>Mercur Auto</td>\n",
       "      <td>Audi</td>\n",
       "      <td>A3</td>\n",
       "      <td>2017</td>\n",
       "      <td>DEU</td>\n",
       "      <td>F</td>\n",
       "      <td>1.4</td>\n",
       "      <td>АКПП</td>\n",
       "      <td>FWD</td>\n",
       "      <td>Алматы</td>\n",
       "      <td>1</td>\n",
       "      <td>26608.232900</td>\n",
       "      <td>26608.232900</td>\n",
       "      <td>г.Алматы</td>\n",
       "      <td>Легковые автомобили</td>\n",
       "      <td>C класс</td>\n",
       "    </tr>\n",
       "    <tr>\n",
       "      <th>4</th>\n",
       "      <td>2019-07-01</td>\n",
       "      <td>Mercur Auto</td>\n",
       "      <td>Audi</td>\n",
       "      <td>A4</td>\n",
       "      <td>2017</td>\n",
       "      <td>DEU</td>\n",
       "      <td>F</td>\n",
       "      <td>2.0</td>\n",
       "      <td>АКПП</td>\n",
       "      <td>4WD</td>\n",
       "      <td>Алматы</td>\n",
       "      <td>1</td>\n",
       "      <td>48343.982648</td>\n",
       "      <td>48343.982648</td>\n",
       "      <td>г.Алматы</td>\n",
       "      <td>Легковые автомобили</td>\n",
       "      <td>D класс</td>\n",
       "    </tr>\n",
       "    <tr>\n",
       "      <th>5</th>\n",
       "      <td>2019-06-01</td>\n",
       "      <td>Mercur Auto</td>\n",
       "      <td>Audi</td>\n",
       "      <td>A5</td>\n",
       "      <td>2017</td>\n",
       "      <td>DEU</td>\n",
       "      <td>F</td>\n",
       "      <td>2.0</td>\n",
       "      <td>АКПП</td>\n",
       "      <td>4WD</td>\n",
       "      <td>Алматы</td>\n",
       "      <td>1</td>\n",
       "      <td>52760.736196</td>\n",
       "      <td>52760.736196</td>\n",
       "      <td>г.Алматы</td>\n",
       "      <td>Легковые автомобили</td>\n",
       "      <td>Спортивные автомобили</td>\n",
       "    </tr>\n",
       "  </tbody>\n",
       "</table>\n",
       "</div>"
      ],
      "text/plain": [
       "        дата     компания бренд модель год_выпуска страна_производитель  \\\n",
       "1 2019-05-01  Mercur Auto  Audi     A3        2018                  DEU   \n",
       "2 2019-06-01  Mercur Auto  Audi     A3        2018                  DEU   \n",
       "3 2019-07-01  Mercur Auto  Audi     A3        2017                  DEU   \n",
       "4 2019-07-01  Mercur Auto  Audi     A4        2017                  DEU   \n",
       "5 2019-06-01  Mercur Auto  Audi     A5        2017                  DEU   \n",
       "\n",
       "  вид_топлива  объём_двиг_л коробка_передач тип_привода  регион  количество  \\\n",
       "1           F           1.4            АКПП         FWD  Алматы           1   \n",
       "2           F           1.4            АКПП         FWD  Алматы           1   \n",
       "3           F           1.4            АКПП         FWD  Алматы           1   \n",
       "4           F           2.0            АКПП         4WD  Алматы           1   \n",
       "5           F           2.0            АКПП         4WD  Алматы           1   \n",
       "\n",
       "       цена_usd   продажа_usd   область      сегментация_2013  \\\n",
       "1  30581.000000  30581.000000  г.Алматы  Легковые автомобили    \n",
       "2  35087.719000  35087.719000  г.Алматы  Легковые автомобили    \n",
       "3  26608.232900  26608.232900  г.Алматы  Легковые автомобили    \n",
       "4  48343.982648  48343.982648  г.Алматы  Легковые автомобили    \n",
       "5  52760.736196  52760.736196  г.Алматы  Легковые автомобили    \n",
       "\n",
       "               класс_2013  \n",
       "1                C класс   \n",
       "2                C класс   \n",
       "3                C класс   \n",
       "4                D класс   \n",
       "5  Спортивные автомобили   "
      ]
     },
     "execution_count": 37,
     "metadata": {},
     "output_type": "execute_result"
    }
   ],
   "source": [
    "data.head()"
   ]
  },
  {
   "cell_type": "code",
   "execution_count": 38,
   "metadata": {},
   "outputs": [],
   "source": [
    "marks = (data.groupby('бренд')[['количество', 'продажа_usd']]\n",
    "            .agg('sum').sort_values(by='количество', ascending=False)\n",
    "            .reset_index()\n",
    "           )"
   ]
  },
  {
   "cell_type": "code",
   "execution_count": 39,
   "metadata": {},
   "outputs": [],
   "source": [
    "def chart(table, brand, amount, sales):\n",
    "    \n",
    "    plt.figure(figsize=(14, 5))\n",
    "\n",
    "    ax1 = plt.subplot(1, 2, 1)\n",
    "\n",
    "    sns.barplot(data=table.sort_values(by=amount, ascending=False).head(10), x=amount, y=brand)\n",
    "    plt.title('Топ 10 марок в натуральном выражении')\n",
    "    plt.xlabel('Количество проданных автомобилей')\n",
    "    plt.ylabel('Бренд')\n",
    "\n",
    "    ax2 = plt.subplot(1, 2, 2)\n",
    "\n",
    "    sns.barplot(data=table.sort_values(by=sales, ascending=False).head(10), x=sales, y=brand)\n",
    "    plt.title('Топ 10 марок в денежном выражении')\n",
    "    plt.xlabel('Объём продаж, 100 млн $')\n",
    "    plt.ylabel('Бренд')\n",
    "    \n",
    "    plt.show()"
   ]
  },
  {
   "cell_type": "code",
   "execution_count": 40,
   "metadata": {},
   "outputs": [
    {
     "data": {
      "image/png": "[encoded data removed]",
      "text/plain": [
       "<Figure size 1400x500 with 2 Axes>"
      ]
     },
     "metadata": {},
     "output_type": "display_data"
    }
   ],
   "source": [
    "chart(marks, 'бренд', 'количество', 'продажа_usd')"
   ]
  },
  {
   "cell_type": "code",
   "execution_count": null,
   "metadata": {},
   "outputs": [],
   "source": []
  }
 ],
 "metadata": {
  "kernelspec": {
   "display_name": "Python 3",
   "language": "python",
   "name": "python3"
  },
  "language_info": {
   "codemirror_mode": {
    "name": "ipython",
    "version": 3
   },
   "file_extension": ".py",
   "mimetype": "text/x-python",
   "name": "python",
   "nbconvert_exporter": "python",
   "pygments_lexer": "ipython3",
   "version": "3.7.0"
  }
 },
 "nbformat": 4,
 "nbformat_minor": 5
}
